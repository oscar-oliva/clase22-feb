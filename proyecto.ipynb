{
  "nbformat": 4,
  "nbformat_minor": 0,
  "metadata": {
    "colab": {
      "provenance": [],
      "authorship_tag": "ABX9TyMCYaCkHZj7Hs8hRD0zlw2B",
      "include_colab_link": true
    },
    "kernelspec": {
      "name": "python3",
      "display_name": "Python 3"
    },
    "language_info": {
      "name": "python"
    }
  },
  "cells": [
    {
      "cell_type": "markdown",
      "metadata": {
        "id": "view-in-github",
        "colab_type": "text"
      },
      "source": [
        "<a href=\"https://colab.research.google.com/github/oscar-oliva/clase22-feb/blob/main/proyecto.ipynb\" target=\"_parent\"><img src=\"https://colab.research.google.com/assets/colab-badge.svg\" alt=\"Open In Colab\"/></a>"
      ]
    },
    {
      "cell_type": "code",
      "execution_count": 11,
      "metadata": {
        "id": "_Ct6uaf9hGak"
      },
      "outputs": [],
      "source": [
        "import pandas as pd\n",
        "import numpy as np\n",
        "import seaborn as sns\n",
        "import matplotlib.pyplot as plt\n",
        "import zipfile"
      ]
    },
    {
      "cell_type": "code",
      "source": [
        "bbdd = pd.read_csv('data.csv.zip', decimal=',', parse_dates=['date'])\n",
        "bbdd.head()"
      ],
      "metadata": {
        "id": "T8U-sYJYoijY"
      },
      "execution_count": null,
      "outputs": []
    },
    {
      "cell_type": "code",
      "source": [
        "bbdd.isnull().sum()\n",
        "#Se visualiza que no hay ningún dato null"
      ],
      "metadata": {
        "id": "Kk8rulQnpE3M"
      },
      "execution_count": null,
      "outputs": []
    },
    {
      "cell_type": "code",
      "source": [
        "bbdd.info()"
      ],
      "metadata": {
        "id": "7rjfGiG_p0tQ"
      },
      "execution_count": null,
      "outputs": []
    },
    {
      "cell_type": "code",
      "source": [
        "print(bbdd.columns)"
      ],
      "metadata": {
        "id": "EPHNjuP0rjhN"
      },
      "execution_count": null,
      "outputs": []
    },
    {
      "cell_type": "code",
      "source": [
        "# Replacing ' ' by '_'\n",
        "bbdd.columns = bbdd.columns.str.replace(' ','_')"
      ],
      "metadata": {
        "id": "X0DN--_ds1cA"
      },
      "execution_count": null,
      "outputs": []
    },
    {
      "cell_type": "code",
      "source": [
        "# Replacing '%' symbol with 'percent'\n",
        "bbdd.columns = bbdd.columns.str.replace('%','percent')\n",
        "bbdd.head()\n"
      ],
      "metadata": {
        "id": "pInnuAZitOXO"
      },
      "execution_count": null,
      "outputs": []
    },
    {
      "cell_type": "code",
      "source": [],
      "metadata": {
        "id": "iqEO6S9ORwRd"
      },
      "execution_count": null,
      "outputs": []
    }
  ]
}